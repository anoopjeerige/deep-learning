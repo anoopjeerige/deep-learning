{
 "cells": [
  {
   "cell_type": "markdown",
   "metadata": {},
   "source": [
    "# Reinforcement Learning"
   ]
  },
  {
   "cell_type": "code",
   "execution_count": null,
   "metadata": {},
   "outputs": [],
   "source": [
    "# Common imports\n",
    "import gym\n",
    "import numpy as np\n",
    "\n",
    "# Visualization imports\n",
    "import matplotlib\n",
    "# to enable interactive figures in a live notebook session\n",
    "matplotlib.use(\"nbagg\")\n",
    "import matplotlib.animation as animation\n",
    "import matplotlib.pyplot as plt\n",
    "plt.rcParams[\"axes.labelsize\"] = 14\n",
    "plt.rcParams[\"xtick.labelsize\"] = 12\n",
    "plt.rcParams[\"ytick.labelsize\"] = 12\n"
   ]
  },
  {
   "cell_type": "code",
   "execution_count": null,
   "metadata": {},
   "outputs": [],
   "source": [
    "# To make notebook's output stable across runs\n",
    "def reset_graph(seed=42):\n",
    "    tf.reset_default_graph()\n",
    "    tf.set_random_seed(seed)\n",
    "    np.random.seed(seed)\n",
    "\n",
    "# Helpers for rendering animation of the environments\n",
    "def update_scene(num, frames, patch):\n",
    "    patch.set_data(frames[num])\n",
    "    return patch,\n",
    "\n",
    "def plot_animation(frames, repeat=False, interval=40):\n",
    "    plt.close()  # or else nbagg sometimes plots in the previous cell\n",
    "    fig = plt.figure()\n",
    "    patch = plt.imshow(frames[0])\n",
    "    plt.axis('off')\n",
    "    return animation.FuncAnimation(fig, update_scene, fargs=(frames, patch), frames=len(frames), repeat=repeat, interval=interval)"
   ]
  },
  {
   "cell_type": "markdown",
   "metadata": {},
   "source": [
    "## Attributes of a environment\n",
    "Space objects - Describe valid actions and observations\n",
    "Discrete space - allows fixed range of non-negative numbers that are actions\n",
    "Box space - allows n-dimensional box of valid observations"
   ]
  },
  {
   "cell_type": "code",
   "execution_count": null,
   "metadata": {},
   "outputs": [],
   "source": [
    "# Create the environment\n",
    "env = gym.make(\"CartPole-v0\")\n",
    "\n",
    "print(\"Actions :\", env.action_space)\n",
    "print(\"Observations :\", env.observation_space)\n",
    "print(\"Observations - lower limit :\", env.observation_space.low)\n",
    "print(\"Observations - higher limit :\", env.observation_space.high)\n",
    "env.close()"
   ]
  },
  {
   "cell_type": "markdown",
   "metadata": {},
   "source": [
    "## Cart pole environment where agent performs random action"
   ]
  },
  {
   "cell_type": "code",
   "execution_count": null,
   "metadata": {},
   "outputs": [],
   "source": [
    "# Create the environment\n",
    "env = gym.make(\"CartPole-v0\")\n",
    "\n",
    "# Initialize the environment\n",
    "obs = env.reset()\n",
    "\n",
    "frames = []\n",
    "\n",
    "# Sample the steps in the environment\n",
    "for _ in range(100):\n",
    "    img = env.render(mode=\"rgb_array\")\n",
    "    frames.append(img)\n",
    "    \n",
    "    env.step(env.action_space.sample())\n",
    "    \n",
    "env.close()"
   ]
  },
  {
   "cell_type": "code",
   "execution_count": null,
   "metadata": {},
   "outputs": [],
   "source": [
    "video = plot_animation(frames)\n",
    "plt.show()"
   ]
  },
  {
   "cell_type": "markdown",
   "metadata": {},
   "source": [
    "## Cart pole environment with hardcoded policy"
   ]
  },
  {
   "cell_type": "code",
   "execution_count": null,
   "metadata": {
    "scrolled": true
   },
   "outputs": [],
   "source": [
    "# Create the environment\n",
    "env = gym.make(\"CartPole-v0\")\n",
    "\n",
    "# hardcoded policy\n",
    "def basic_policy(angle):\n",
    "    return 0 if angle < 0 else 1\n",
    "\n",
    "frames = []\n",
    "\n",
    "n_max_steps = 1000\n",
    "n_change_steps = 10\n",
    "\n",
    "# Initialize the environment\n",
    "obs = env.reset()\n",
    "\n",
    "for step in range(n_max_steps):\n",
    "    img = env.render(mode=\"rgb_array\")\n",
    "    frames.append(img)\n",
    "    \n",
    "    # environment observations\n",
    "    postion, velocity, angle, angular_velocity = obs\n",
    "    # detemine next action using basic policy based on angle\n",
    "    action = basic_policy(angle)\n",
    "    # peform the action\n",
    "    obs, reward, done, info = env.step(action)\n",
    "    if done:\n",
    "        break\n",
    "    \n",
    "# Close the environment\n",
    "env.close()"
   ]
  },
  {
   "cell_type": "code",
   "execution_count": null,
   "metadata": {},
   "outputs": [],
   "source": [
    "video = plot_animation(frames, repeat=True)\n",
    "plt.show()"
   ]
  },
  {
   "cell_type": "markdown",
   "metadata": {},
   "source": [
    "## Cart Pole environment with neural network that learns random policy"
   ]
  },
  {
   "cell_type": "code",
   "execution_count": null,
   "metadata": {},
   "outputs": [],
   "source": [
    "import tensorflow as tf\n",
    "\n",
    "reset_graph()\n",
    "\n",
    "# Construction Phase\n",
    "# 1) Specify the number of input, hidden and output neurons\n",
    "n_inputs = 4\n",
    "n_hidden = 4\n",
    "n_outputs = 1\n",
    "# Xavier and He initialization\n",
    "initializer = tf.contrib.layers.variance_scaling_initializer()\n",
    "\n",
    "# 2) Use placeholders to represent the data\n",
    "X = tf.placeholder(tf.float32, shape=[None, n_inputs], name=\"X\")\n",
    "\n",
    "# 3) Create the different layers of the network\n",
    "with tf.name_scope(\"nn\"):\n",
    "    hidden = tf.layers.dense(X, n_hidden, activation=tf.nn.elu, kernel_initializer=initializer, name=\"hidden\")\n",
    "    outputs = tf.layers.dense(hidden, n_outputs, activation=tf.nn.sigmoid, kernel_initializer=initializer, name=\"outputs\")\n",
    "    \n",
    "# 4) Select a random action based on the estimated probabilities\n",
    "p_left_right = tf.concat(axis=1, values=[outputs, 1 - outputs])\n",
    "action = tf.multinomial(tf.log(p_left_right), num_samples=1)\n",
    "\n",
    "# 5) Initalizer\n",
    "init = tf.global_variables_initializer()\n"
   ]
  },
  {
   "cell_type": "code",
   "execution_count": null,
   "metadata": {},
   "outputs": [],
   "source": [
    "# Create the environment\n",
    "env = gym.make(\"CartPole-v0\")\n",
    "\n",
    "# Execution Phase\n",
    "n_max_steps = 1000\n",
    "frames = []\n",
    "\n",
    "with tf.Session() as sess:\n",
    "    sess.run(init)\n",
    "    # Initialize the evnvironment\n",
    "    obs = env.reset()\n",
    "    for _ in range(n_max_steps):\n",
    "        img = env.render(mode=\"rgb_array\")\n",
    "        frames.append(img)\n",
    "        # Get the action from the neural policy\n",
    "        action_val = action.eval(feed_dict={X:obs.reshape(1, n_inputs)})\n",
    "        obs, reward, done, info = env.step(action_val[0][0])\n",
    "        if done:\n",
    "            break\n",
    "        \n",
    "env.close()"
   ]
  },
  {
   "cell_type": "code",
   "execution_count": null,
   "metadata": {},
   "outputs": [],
   "source": [
    "video = plot_animation(frames, repeat=True)\n",
    "plt.show()"
   ]
  },
  {
   "cell_type": "markdown",
   "metadata": {},
   "source": [
    "## Cart pole environment with neural network that learns a basic policy\n",
    "if angle < 0 move left else move right"
   ]
  },
  {
   "cell_type": "code",
   "execution_count": null,
   "metadata": {},
   "outputs": [],
   "source": [
    "import tensorflow as tf\n",
    "\n",
    "# parameters\n",
    "learning_rate = 0.01\n",
    "reset_graph()\n",
    "\n",
    "# Construction Phase\n",
    "# 1) Specify the number inputs, hidden and outputs neurons\n",
    "n_inputs = 4\n",
    "n_hidden = 4\n",
    "n_outputs = 1\n",
    "# Xavier and He initialization\n",
    "initializer = tf.contrib.layers.variance_scaling_initializer()\n",
    "\n",
    "# 2) Use placeholders to represent the observations and target actions\n",
    "X = tf.placeholder(tf.float32, shape=[None, n_inputs], name=\"X\")\n",
    "y = tf.placeholder(tf.float32, shape=[None, n_outputs], name=\"y\")\n",
    "\n",
    "# 3) Create the different layers of the network\n",
    "with tf.name_scope(\"nn\"):\n",
    "    hidden = tf.layers.dense(X, n_hidden, activation=tf.nn.elu, kernel_initializer=initializer, name=\"hidden\")\n",
    "    # Logistic(sigmoid) activiation to output a probability from 0.0 to 1.0\n",
    "    logits = tf.layers.dense(hidden, n_outputs, name=\"logits\")\n",
    "    outputs = tf.nn.sigmoid(logits)\n",
    "    # To pick a random action\n",
    "    p_left_right = tf.concat(axis=1, values=[outputs, 1 - outputs])\n",
    "    action = tf.multinomial(tf.log(p_left_right), num_samples=1)\n",
    "    \n",
    "# 4) Define the cost function i.e the cross entropy to train the network,\n",
    "# cross entropy penalizes a model that estimates a low probability for a target class\n",
    "cross_entropy = tf.nn.sigmoid_cross_entropy_with_logits(labels=y, logits=logits)\n",
    "optimizer = tf.train.AdamOptimizer(learning_rate=learning_rate)\n",
    "training_op = optimizer.minimize(cross_entropy)\n",
    "\n",
    "# 5) Initializer and Saver\n",
    "init = tf.global_variables_initializer()\n",
    "saver = tf.train.Saver()"
   ]
  },
  {
   "cell_type": "code",
   "execution_count": null,
   "metadata": {},
   "outputs": [],
   "source": [
    "# Execution phase\n",
    "\n",
    "# paramters for environment\n",
    "n_environment = 10\n",
    "n_iterations = 1000\n",
    "\n",
    "envs = [gym.make(\"CartPole-v0\") for _ in range(n_environment)]\n",
    "observations = [env.reset() for env in envs]\n",
    "\n",
    "with tf.Session() as sess:\n",
    "    sess.run(init)\n",
    "    for iteration in range(n_iterations):\n",
    "        target_probas = np.array([([1.] if obs[2] < 0 else [0.]) for obs in observations])\n",
    "        action_val, _ = sess.run([action, training_op], feed_dict={X:np.array(observations), y:target_probas})\n",
    "        \n",
    "        for env_index, env in enumerate(envs):\n",
    "            obs, reward, done, info = env.step(action_val[env_index][0])\n",
    "            observations[env_index] = obs if not done else env.reset()\n",
    "            \n",
    "    saver.save(sess, \"./my_policy_net_basic.ckpt\")\n",
    "    \n",
    "for env in envs:\n",
    "    env.close()"
   ]
  },
  {
   "cell_type": "code",
   "execution_count": null,
   "metadata": {},
   "outputs": [],
   "source": [
    "def render_policy_net(model_path, action, X, n_max_steps=1000):\n",
    "    frames = []\n",
    "    env = gym.make(\"CartPole-v0\")\n",
    "    obs = env.reset()\n",
    "    with tf.Session() as sess:\n",
    "        saver.restore(sess, model_path)\n",
    "        for step in range(n_max_steps):\n",
    "            img = env.render(mode=\"rgb_array\")\n",
    "            frames.append(img)\n",
    "            action_val = action.eval(feed_dict={X: obs.reshape(1, n_inputs)})\n",
    "            obs, reward, done, info = env.step(action_val[0][0])\n",
    "            if done:\n",
    "                break\n",
    "                \n",
    "    env.close()\n",
    "    return frames"
   ]
  },
  {
   "cell_type": "code",
   "execution_count": null,
   "metadata": {},
   "outputs": [],
   "source": [
    "frames = render_policy_net(\"./my_policy_net_basic.ckpt\", action, X)"
   ]
  },
  {
   "cell_type": "code",
   "execution_count": null,
   "metadata": {},
   "outputs": [],
   "source": [
    "video = plot_animation(frames)\n",
    "plt.show()"
   ]
  },
  {
   "cell_type": "markdown",
   "metadata": {},
   "source": [
    "# Cart pole environment with neural network that learns using policy gradients"
   ]
  },
  {
   "cell_type": "code",
   "execution_count": null,
   "metadata": {},
   "outputs": [],
   "source": [
    "import tensorflow as tf\n",
    "\n",
    "reset_graph()\n",
    "\n",
    "# parameters\n",
    "learning_rate = 0.01\n",
    "\n",
    "# Construction phase\n",
    "# 1) Specify the number of neurons in the input, hidden and output layers\n",
    "n_inputs = 4\n",
    "n_hidden = 4\n",
    "n_outputs = 1\n",
    "\n",
    "# Xavier and He initializations\n",
    "initializer = tf.contrib.layers.variance_scaling_initializer()\n",
    "\n",
    "# 2) Use placeholder to represent the input observations\n",
    "X = tf.placeholder(tf.float32, shape=[None, n_inputs], name=\"X\")\n",
    "\n",
    "# 3) Create the different layers of the network\n",
    "with tf.name_scope(\"nn\"):\n",
    "    hidden = tf.layers.dense(X, n_hidden, activation=tf.nn.elu, kernel_initializer=initializer, name=\"hidden\")\n",
    "    # logistic (sigmoid) activation to output a probability between 0.0 to 1.0\n",
    "    logits = tf.layers.dense(hidden, n_outputs, name=\"logits\")\n",
    "    outputs = tf.nn.sigmoid(logits)\n",
    "    # to pick a random action\n",
    "    p_left_right = tf.concat(axis=1, values=[outputs, 1 - outputs])\n",
    "    action = tf.multinomial(tf.log(p_left_right), num_samples=1)\n",
    "    \n",
    "# assume action taken to be best action, \n",
    "# target prob 1.0 - action left 0\n",
    "# target prob 0.0 - actiob right 1\n",
    "y = 1 - tf.to_float(action)\n",
    "\n",
    "# 4) Define the cost function i.e. the cross entropy to train the network\n",
    "# cross entropy penalizes a model that predicts low probability for a target\n",
    "cross_entropy = tf.nn.sigmoid_cross_entropy_with_logits(labels=y, logits=logits)\n",
    "optimizer = tf.train.AdamOptimizer(learning_rate=learning_rate)\n",
    "# Get the gradients\n",
    "grads_vars = optimizer.compute_gradients(cross_entropy)\n",
    "gradients = [grads for grads, var in grads_vars]\n",
    "# Create a placeholder to apply tweaked gradients\n",
    "gradients_placeholders = []\n",
    "grads_vars_feed = []\n",
    "\n",
    "for grad, var in grads_vars:\n",
    "    gradient_placeholder = tf.placeholder(tf.float32, shape=grad.get_shape())\n",
    "    gradients_placeholders.append(gradient_placeholder)\n",
    "    grads_vars_feed.append((gradient_placeholder, var))\n",
    "training_op = optimizer.apply_gradients(grads_vars_feed)\n",
    "\n",
    "# 5) Initializer and Saver\n",
    "init = tf.global_variables_initializer()\n",
    "saver = tf.train.Saver()\n",
    "\n"
   ]
  },
  {
   "cell_type": "code",
   "execution_count": null,
   "metadata": {},
   "outputs": [],
   "source": [
    "def discount_rewards(rewards, discount_rate):\n",
    "    discounted_rewards = np.empty(len(rewards))\n",
    "    cumulative_rewards = 0\n",
    "    for step in reversed(range(len(rewards))):\n",
    "        cumulative_rewards = rewards[step] + cumulative_rewards * discount_rate\n",
    "        discounted_rewards[step] = cumulative_rewards\n",
    "    return discounted_rewards\n",
    "\n",
    "def discount_normalize_rewards(all_rewards, discount_rate):\n",
    "    all_discounted_rewards = [discount_rewards(reward, discount_rate) for reward in all_rewards]\n",
    "    flat_rewards = np.concatenate(all_discounted_rewards)\n",
    "    reward_mean = flat_rewards.mean()\n",
    "    reward_std = flat_rewards.std()\n",
    "    return [(discounted_rewards - reward_mean)/reward_std for discounted_rewards in all_discounted_rewards]"
   ]
  },
  {
   "cell_type": "code",
   "execution_count": null,
   "metadata": {},
   "outputs": [],
   "source": [
    "# Execution phase\n",
    "\n",
    "# create the game environment\n",
    "env = gym.make(\"CartPole-v0\")\n",
    "# parameters\n",
    "# number of training iterations\n",
    "n_iterations = 250\n",
    "# max steps per episode\n",
    "n_max_steps = 1000\n",
    "# train the policy for every 10 games\n",
    "n_games_per_update = 10\n",
    "# save model for every 10 training iterations\n",
    "save_iterations = 10\n",
    "discount_rate = 0.95\n",
    "\n",
    "with tf.Session() as sess:\n",
    "    sess.run(init)\n",
    "    for iteration in range(n_iterations):\n",
    "        print(\"r\\Iteration:{}\".format(iteration), end=\"\")\n",
    "        all_rewards = [] # all sequences of rewards for each episode\n",
    "        all_gradients = [] # gradients saved at each step of each episode\n",
    "        for game in range(n_games_per_update):\n",
    "            current_rewards = [] # all rewards of current episode\n",
    "            current_gradients = [] # all gradients of current episode\n",
    "            # initialize the env\n",
    "            obs = env.reset()\n",
    "            for step in range(n_max_steps):\n",
    "                action_val, gradients_val = sess.run([action, gradients], feed_dict={X: obs.reshape(1, n_inputs)})\n",
    "                obs, reward, done, info = env.step(action_val[0][0])\n",
    "                current_rewards.append(reward)\n",
    "                current_gradients.append(gradients_val)\n",
    "                if done:\n",
    "                    break\n",
    "            all_rewards.append(current_rewards)\n",
    "            all_gradients.append(current_gradients)\n",
    "            \n",
    "        # Policy update after every 10 episodes\n",
    "        all_rewards = discount_normalize_rewards(all_rewards, discount_rate)\n",
    "        feed_dict = {}\n",
    "        for var_index, gradient_placeholder in enumerate(gradients_placeholders):\n",
    "            mean_gradients = np.mean([reward * all_gradients[game_index][step][var_index]\n",
    "                                     for game_index, rewards in enumerate(all_rewards)\n",
    "                                     for step, reward in enumerate(rewards)], axis=0)\n",
    "            feed_dict[gradient_placeholder] = mean_gradients\n",
    "        sess.run(training_op, feed_dict=feed_dict)\n",
    "        if iteration % save_iterations == 0:\n",
    "            saver.save(sess, \"./my_policy_net_pg.ckpt\")"
   ]
  },
  {
   "cell_type": "code",
   "execution_count": null,
   "metadata": {},
   "outputs": [],
   "source": [
    "env.close()"
   ]
  },
  {
   "cell_type": "code",
   "execution_count": null,
   "metadata": {},
   "outputs": [],
   "source": [
    "frames = render_policy_net(\"./my_policy_net_pg.ckpt\", action, X, n_max_steps=2000)"
   ]
  },
  {
   "cell_type": "code",
   "execution_count": null,
   "metadata": {},
   "outputs": [],
   "source": [
    "video = plot_animation(frames)\n",
    "plt.show()"
   ]
  },
  {
   "cell_type": "code",
   "execution_count": null,
   "metadata": {},
   "outputs": [],
   "source": []
  }
 ],
 "metadata": {
  "kernelspec": {
   "display_name": "openai",
   "language": "python",
   "name": "openai"
  },
  "language_info": {
   "codemirror_mode": {
    "name": "ipython",
    "version": 3
   },
   "file_extension": ".py",
   "mimetype": "text/x-python",
   "name": "python",
   "nbconvert_exporter": "python",
   "pygments_lexer": "ipython3",
   "version": "3.5.2"
  }
 },
 "nbformat": 4,
 "nbformat_minor": 2
}
